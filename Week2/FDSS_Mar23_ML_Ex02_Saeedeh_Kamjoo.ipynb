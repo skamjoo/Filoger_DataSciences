{
 "cells": [
  {
   "cell_type": "markdown",
   "id": "2c736abc",
   "metadata": {},
   "source": [
    "# <center>Exercise 02"
   ]
  },
  {
   "cell_type": "markdown",
   "id": "801d8214",
   "metadata": {},
   "source": [
    "### Required library"
   ]
  },
  {
   "cell_type": "code",
   "execution_count": 1,
   "id": "3f884352",
   "metadata": {},
   "outputs": [],
   "source": [
    "import numpy as np"
   ]
  },
  {
   "cell_type": "markdown",
   "id": "a8051568",
   "metadata": {},
   "source": [
    "### Get a number"
   ]
  },
  {
   "cell_type": "code",
   "execution_count": 2,
   "id": "694f215a",
   "metadata": {},
   "outputs": [
    {
     "name": "stdout",
     "output_type": "stream",
     "text": [
      "Please enter a number: 7\n"
     ]
    }
   ],
   "source": [
    "\n",
    "\n",
    "num = int(input('Please enter a number: '))"
   ]
  },
  {
   "cell_type": "markdown",
   "id": "157ff126",
   "metadata": {},
   "source": [
    "### Generate random numbers between 0 and 100 as many as the number taken"
   ]
  },
  {
   "cell_type": "code",
   "execution_count": 3,
   "id": "fb91e76b",
   "metadata": {},
   "outputs": [
    {
     "name": "stdout",
     "output_type": "stream",
     "text": [
      "Generated stochastic numbers: [99 78 61 16 73  8 62]\n"
     ]
    }
   ],
   "source": [
    "np.random.seed(5)\n",
    "\n",
    "stochastic_nums = np.random.randint(0, 100, num)\n",
    "print(f'Generated stochastic numbers: {stochastic_nums}')"
   ]
  },
  {
   "cell_type": "markdown",
   "id": "8ba60c68",
   "metadata": {},
   "source": [
    "### Find maximum number from the array"
   ]
  },
  {
   "cell_type": "code",
   "execution_count": 4,
   "id": "99be19b0",
   "metadata": {},
   "outputs": [
    {
     "name": "stdout",
     "output_type": "stream",
     "text": [
      "The maximum number : 99\n"
     ]
    }
   ],
   "source": [
    "max_n = np.max(stochastic_nums)\n",
    "print(f'The maximum number : {max_n}')"
   ]
  },
  {
   "cell_type": "markdown",
   "id": "0539c340",
   "metadata": {},
   "source": [
    "### Win condition"
   ]
  },
  {
   "cell_type": "code",
   "execution_count": 5,
   "id": "5369e8ef",
   "metadata": {},
   "outputs": [
    {
     "name": "stdout",
     "output_type": "stream",
     "text": [
      "Win :)\n"
     ]
    }
   ],
   "source": [
    "if max_n > 70:\n",
    "    print('Win :)')\n",
    "else:\n",
    "    print('Fail :(')"
   ]
  }
 ],
 "metadata": {
  "kernelspec": {
   "display_name": "Python 3 (ipykernel)",
   "language": "python",
   "name": "python3"
  },
  "language_info": {
   "codemirror_mode": {
    "name": "ipython",
    "version": 3
   },
   "file_extension": ".py",
   "mimetype": "text/x-python",
   "name": "python",
   "nbconvert_exporter": "python",
   "pygments_lexer": "ipython3",
   "version": "3.9.16"
  }
 },
 "nbformat": 4,
 "nbformat_minor": 5
}
