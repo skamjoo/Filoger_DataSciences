{
 "cells": [
  {
   "cell_type": "markdown",
   "id": "2c736abc",
   "metadata": {},
   "source": [
    "# <center>Exercise 03"
   ]
  },
  {
   "cell_type": "markdown",
   "id": "801d8214",
   "metadata": {},
   "source": [
    "### Required libraries"
   ]
  },
  {
   "cell_type": "code",
   "execution_count": 1,
   "id": "3f884352",
   "metadata": {},
   "outputs": [],
   "source": [
    "import numpy as np\n",
    "import time"
   ]
  },
  {
   "cell_type": "markdown",
   "id": "61e2de6d",
   "metadata": {},
   "source": [
    "### Create an array with random numbers"
   ]
  },
  {
   "cell_type": "code",
   "execution_count": 2,
   "id": "b0ce3f08",
   "metadata": {},
   "outputs": [
    {
     "name": "stdout",
     "output_type": "stream",
     "text": [
      "Array: [99 78 61 16 73  8 62 27 30 80]\n"
     ]
    }
   ],
   "source": [
    "np.random.seed(5)\n",
    "\n",
    "stochastic_array = np.random.randint(0, 100, 10)\n",
    "\n",
    "print(f'Array: {stochastic_array}')"
   ]
  },
  {
   "cell_type": "markdown",
   "id": "a8051568",
   "metadata": {},
   "source": [
    "### Quick sort:\n",
    "Quick sort is a popular sorting algorithm that uses a divide-and-conquer approach to sort an array or list of elements. The algorithm works by selecting a pivot element from the array and partitioning the remaining elements into two sub-arrays, one with elements smaller than the pivot and another with elements greater than the pivot. The sub-arrays are then recursively sorted using the same pivot selection and partitioning process until the entire array is sorted."
   ]
  },
  {
   "cell_type": "code",
   "execution_count": 3,
   "id": "694f215a",
   "metadata": {},
   "outputs": [
    {
     "name": "stdout",
     "output_type": "stream",
     "text": [
      "Sorted Array: [ 8 16 27 30 61 62 73 78 80 99]\n",
      "Run time: 0.001504659652709961\n"
     ]
    }
   ],
   "source": [
    "# Method 1: Use sort function in numpy library with kind parameter\n",
    "\n",
    "start = time.time()\n",
    "quick_sorted_array = np.sort(stochastic_array, kind = 'quicksort')\n",
    "end = time.time()\n",
    "print(f'Sorted Array: {quick_sorted_array}')\n",
    "print(f'Run time: {end-start}')"
   ]
  },
  {
   "cell_type": "code",
   "execution_count": 4,
   "id": "2d265a78",
   "metadata": {},
   "outputs": [],
   "source": [
    "# Method 2: Use an implementation of the algorithm\n",
    "\n",
    "def quick_sort(arr):\n",
    "    if len(arr) <= 1:\n",
    "        return arr\n",
    "    else:\n",
    "        pivot = arr[0]\n",
    "        left = np.array([x for x in arr[1:] if x < pivot])\n",
    "        right = np.array([x for x in arr[1:] if x >= pivot])\n",
    "        return np.concatenate((quick_sort(left), np.array([pivot]), quick_sort(right)))"
   ]
  },
  {
   "cell_type": "code",
   "execution_count": 5,
   "id": "8d39c8ed",
   "metadata": {},
   "outputs": [
    {
     "name": "stdout",
     "output_type": "stream",
     "text": [
      "Using an implementation of the algorithm: [ 8. 16. 27. 30. 61. 62. 73. 78. 80. 99.]\n"
     ]
    }
   ],
   "source": [
    "qsa = quick_sort(stochastic_array)\n",
    "print(f'Using an implementation of the algorithm: {qsa}')"
   ]
  },
  {
   "cell_type": "markdown",
   "id": "157ff126",
   "metadata": {},
   "source": [
    "### Heap:\n",
    "Heap sort is a comparison-based sorting algorithm that sorts elements in an array or list by first building a binary heap data structure from the elements and then repeatedly extracting the maximum element from the heap until all elements are sorted.\n",
    "\n",
    "The binary heap is a complete binary tree where each node has a value greater than or equal to its parent node (for max heap) or less than or equal to its parent node (for min heap). The first step in heap sort is to build a max heap from the array of elements. This is typically done by starting at the bottom level of the binary heap and working upwards, ensuring that all nodes satisfy the heap property.\n",
    "\n",
    "Once the max heap is constructed, the largest element is extracted from the root node and swapped with the last element in the heap. The heap size is then reduced by one, and the heap property is restored by sifting down the new root node until it satisfies the heap property. This process is repeated until all elements are extracted from the heap and sorted in ascending order."
   ]
  },
  {
   "cell_type": "code",
   "execution_count": 6,
   "id": "758abb98",
   "metadata": {},
   "outputs": [
    {
     "name": "stdout",
     "output_type": "stream",
     "text": [
      "Sorted Array: [ 8 16 27 30 61 62 73 78 80 99]\n",
      "Run time: 0.0\n"
     ]
    }
   ],
   "source": [
    "# Method 1: Use sort function in numpy library with kind parameter\n",
    "\n",
    "start = time.time()\n",
    "heap_sorted_array = np.sort(stochastic_array, kind = 'heapsort')\n",
    "end = time.time()\n",
    "print(f'Sorted Array: {heap_sorted_array}')\n",
    "print(f'Run time: {end-start}')"
   ]
  },
  {
   "cell_type": "code",
   "execution_count": 7,
   "id": "f49c4e04",
   "metadata": {},
   "outputs": [],
   "source": [
    "# Method 2: Use an implementation of the algorithm\n",
    "\n",
    "def heap_sort(arr):\n",
    "    n = len(arr)\n",
    "    # Build max heap\n",
    "    for i in range(n // 2 - 1, -1, -1):\n",
    "        heapify(arr, n, i)\n",
    "    # Extract elements from heap\n",
    "    sorted_arr = np.empty(n, dtype=arr.dtype)\n",
    "    for i in range(n - 1, -1, -1):\n",
    "        sorted_arr[i] = arr[0]\n",
    "        arr[0], arr[i] = arr[i], arr[0]\n",
    "        heapify(arr, i, 0)\n",
    "    return sorted_arr\n",
    "\n",
    "def heapify(arr, n, i):\n",
    "    largest = i\n",
    "    left = 2*i + 1\n",
    "    right = 2*i + 2\n",
    "    if left < n and arr[left] > arr[largest]:\n",
    "        largest = left\n",
    "    if right < n and arr[right] > arr[largest]:\n",
    "        largest = right\n",
    "    if largest != i:\n",
    "        arr[i], arr[largest] = arr[largest], arr[i]\n",
    "        heapify(arr, n, largest)"
   ]
  },
  {
   "cell_type": "code",
   "execution_count": 8,
   "id": "b6be29c8",
   "metadata": {},
   "outputs": [
    {
     "name": "stdout",
     "output_type": "stream",
     "text": [
      "Using an implementation of the algorithm: [ 8 16 27 30 61 62 73 78 80 99]\n"
     ]
    }
   ],
   "source": [
    "hsa = heap_sort(stochastic_array)\n",
    "print(f'Using an implementation of the algorithm: {hsa}')"
   ]
  },
  {
   "cell_type": "markdown",
   "id": "8ba60c68",
   "metadata": {},
   "source": [
    "### Merge:\n",
    "Merge sort is a popular sorting algorithm that uses a divide-and-conquer approach to sort an array or list of elements. The algorithm works by recursively dividing the input array into two halves until each half contains only one element. Then, the two halves are merged back together in sorted order until the entire array is sorted.\n",
    "\n",
    "The merging process involves comparing the first elements of each sub-array and selecting the smallest element to add to a new sorted array. The process continues until all elements have been merged into the new sorted array."
   ]
  },
  {
   "cell_type": "code",
   "execution_count": 9,
   "id": "99be19b0",
   "metadata": {},
   "outputs": [
    {
     "name": "stdout",
     "output_type": "stream",
     "text": [
      "Sorted Array: [ 8 16 27 30 61 62 73 78 80 99]\n",
      "Run time: 0.0\n"
     ]
    }
   ],
   "source": [
    "# Method 1: Use sort function in numpy library with kind parameter\n",
    "\n",
    "start = time.time()\n",
    "merge_sorted_array = np.sort(stochastic_array, kind = 'mergesort')\n",
    "end = time.time()\n",
    "print(f'Sorted Array: {merge_sorted_array}')\n",
    "print(f'Run time: {end-start}')"
   ]
  },
  {
   "cell_type": "code",
   "execution_count": 10,
   "id": "6c4c7f3c",
   "metadata": {},
   "outputs": [],
   "source": [
    "# Method 2: Use an implementation of the algorithm \n",
    "\n",
    "def merge_sort(arr):\n",
    "    if len(arr) <= 1:\n",
    "        return arr\n",
    "    else:\n",
    "        mid = len(arr) // 2\n",
    "        left = merge_sort(arr[:mid])\n",
    "        right = merge_sort(arr[mid:])\n",
    "        return merge(left, right)\n",
    "\n",
    "def merge(left, right):\n",
    "    merged = np.empty(len(left) + len(right), dtype=left.dtype)\n",
    "    i = j = k = 0\n",
    "    while i < len(left) and j < len(right):\n",
    "        if left[i] <= right[j]:\n",
    "            merged[k] = left[i]\n",
    "            i += 1\n",
    "        else:\n",
    "            merged[k] = right[j]\n",
    "            j += 1\n",
    "        k += 1\n",
    "    while i < len(left):\n",
    "        merged[k] = left[i]\n",
    "        i += 1\n",
    "        k += 1\n",
    "    while j < len(right):\n",
    "        merged[k] = right[j]\n",
    "        j += 1\n",
    "        k += 1\n",
    "    return merged"
   ]
  },
  {
   "cell_type": "code",
   "execution_count": 11,
   "id": "7128cfb2",
   "metadata": {},
   "outputs": [
    {
     "name": "stdout",
     "output_type": "stream",
     "text": [
      "Using an implementation of the algorithm: [ 8 16 27 30 61 62 73 78 80 99]\n"
     ]
    }
   ],
   "source": [
    "msa = merge_sort(stochastic_array)\n",
    "print(f'Using an implementation of the algorithm: {msa}')"
   ]
  },
  {
   "cell_type": "code",
   "execution_count": null,
   "id": "b5547ceb",
   "metadata": {},
   "outputs": [],
   "source": []
  }
 ],
 "metadata": {
  "kernelspec": {
   "display_name": "Python 3 (ipykernel)",
   "language": "python",
   "name": "python3"
  },
  "language_info": {
   "codemirror_mode": {
    "name": "ipython",
    "version": 3
   },
   "file_extension": ".py",
   "mimetype": "text/x-python",
   "name": "python",
   "nbconvert_exporter": "python",
   "pygments_lexer": "ipython3",
   "version": "3.9.16"
  }
 },
 "nbformat": 4,
 "nbformat_minor": 5
}
