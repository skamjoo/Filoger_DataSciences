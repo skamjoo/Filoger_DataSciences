{
 "cells": [
  {
   "cell_type": "markdown",
   "id": "3391526e",
   "metadata": {},
   "source": [
    "# <center> Exercise 06"
   ]
  },
  {
   "cell_type": "markdown",
   "id": "fe39704a",
   "metadata": {},
   "source": [
    "### Import required libraries"
   ]
  },
  {
   "cell_type": "code",
   "execution_count": 1,
   "id": "3aef4757",
   "metadata": {},
   "outputs": [],
   "source": [
    "import numpy as np\n",
    "import pandas as pd\n",
    "import scipy as sp\n",
    "import matplotlib.pyplot as plt"
   ]
  },
  {
   "cell_type": "markdown",
   "id": "a6e54cc1",
   "metadata": {},
   "source": [
    "### Read data"
   ]
  },
  {
   "cell_type": "code",
   "execution_count": 2,
   "id": "623557d7",
   "metadata": {},
   "outputs": [],
   "source": [
    "data = pd.read_csv('mibilegame.csv')"
   ]
  },
  {
   "cell_type": "markdown",
   "id": "997bee4e",
   "metadata": {},
   "source": [
    "### Overview of the data"
   ]
  },
  {
   "cell_type": "code",
   "execution_count": 3,
   "id": "42bab023",
   "metadata": {},
   "outputs": [
    {
     "data": {
      "text/html": [
       "<div>\n",
       "<style scoped>\n",
       "    .dataframe tbody tr th:only-of-type {\n",
       "        vertical-align: middle;\n",
       "    }\n",
       "\n",
       "    .dataframe tbody tr th {\n",
       "        vertical-align: top;\n",
       "    }\n",
       "\n",
       "    .dataframe thead th {\n",
       "        text-align: right;\n",
       "    }\n",
       "</style>\n",
       "<table border=\"1\" class=\"dataframe\">\n",
       "  <thead>\n",
       "    <tr style=\"text-align: right;\">\n",
       "      <th></th>\n",
       "      <th>userid</th>\n",
       "      <th>version</th>\n",
       "      <th>sum_gamerounds</th>\n",
       "      <th>retention_1</th>\n",
       "      <th>retention_7</th>\n",
       "    </tr>\n",
       "  </thead>\n",
       "  <tbody>\n",
       "    <tr>\n",
       "      <th>0</th>\n",
       "      <td>116</td>\n",
       "      <td>gate_30</td>\n",
       "      <td>3</td>\n",
       "      <td>False</td>\n",
       "      <td>False</td>\n",
       "    </tr>\n",
       "    <tr>\n",
       "      <th>1</th>\n",
       "      <td>337</td>\n",
       "      <td>gate_30</td>\n",
       "      <td>38</td>\n",
       "      <td>True</td>\n",
       "      <td>False</td>\n",
       "    </tr>\n",
       "    <tr>\n",
       "      <th>2</th>\n",
       "      <td>377</td>\n",
       "      <td>gate_40</td>\n",
       "      <td>165</td>\n",
       "      <td>True</td>\n",
       "      <td>False</td>\n",
       "    </tr>\n",
       "    <tr>\n",
       "      <th>3</th>\n",
       "      <td>483</td>\n",
       "      <td>gate_40</td>\n",
       "      <td>1</td>\n",
       "      <td>False</td>\n",
       "      <td>False</td>\n",
       "    </tr>\n",
       "    <tr>\n",
       "      <th>4</th>\n",
       "      <td>488</td>\n",
       "      <td>gate_40</td>\n",
       "      <td>179</td>\n",
       "      <td>True</td>\n",
       "      <td>True</td>\n",
       "    </tr>\n",
       "  </tbody>\n",
       "</table>\n",
       "</div>"
      ],
      "text/plain": [
       "   userid  version  sum_gamerounds  retention_1  retention_7\n",
       "0     116  gate_30               3        False        False\n",
       "1     337  gate_30              38         True        False\n",
       "2     377  gate_40             165         True        False\n",
       "3     483  gate_40               1        False        False\n",
       "4     488  gate_40             179         True         True"
      ]
     },
     "execution_count": 3,
     "metadata": {},
     "output_type": "execute_result"
    }
   ],
   "source": [
    "data.head()"
   ]
  },
  {
   "cell_type": "code",
   "execution_count": 4,
   "id": "00befd2e",
   "metadata": {},
   "outputs": [
    {
     "name": "stdout",
     "output_type": "stream",
     "text": [
      "The Shape of Dataset:(90189, 5)\n"
     ]
    }
   ],
   "source": [
    "print(f\"The Shape of Dataset:{ data.shape}\")"
   ]
  },
  {
   "cell_type": "code",
   "execution_count": 5,
   "id": "9f40f8a1",
   "metadata": {},
   "outputs": [
    {
     "data": {
      "text/plain": [
       "Index(['userid', 'version', 'sum_gamerounds', 'retention_1', 'retention_7'], dtype='object')"
      ]
     },
     "execution_count": 5,
     "metadata": {},
     "output_type": "execute_result"
    }
   ],
   "source": [
    "column_names = data.columns\n",
    "column_names"
   ]
  },
  {
   "cell_type": "code",
   "execution_count": 6,
   "id": "35f7bacb",
   "metadata": {},
   "outputs": [
    {
     "data": {
      "text/plain": [
       "userid            90189\n",
       "version               2\n",
       "sum_gamerounds      942\n",
       "retention_1           2\n",
       "retention_7           2\n",
       "dtype: int64"
      ]
     },
     "execution_count": 6,
     "metadata": {},
     "output_type": "execute_result"
    }
   ],
   "source": [
    "data.nunique()"
   ]
  },
  {
   "cell_type": "markdown",
   "id": "f0d9f5fe",
   "metadata": {},
   "source": [
    "### Check the features"
   ]
  },
  {
   "cell_type": "markdown",
   "id": "adf2fb45",
   "metadata": {},
   "source": [
    "#### Explanation for each feature in the mibilegame dataset:\n",
    "\n",
    "1- userid: This column represents a unique identifier for each user in the dataset. It can be used to track individual user behavior and analyze user-level patterns.\n",
    "\n",
    "2- version: This column represents the version of the mobile game that each user was assigned to. In an A/B test, for example, different groups of users might be randomly assigned to different versions of the game to test the effectiveness of different features or design elements.\n",
    "- Gate_30: Do NOT seen any ads\n",
    "- Gate_40: Seen ads\n",
    "\n",
    "3- sum_gamerounds: This column represents the total number of game rounds played by each user during a certain period of time. It can be used to measure user engagement with the game and to identify users who are more or less active.\n",
    "\n",
    "4- retention_1: This column represents whether a user returned to the game after 1 day of playing it for the first time. It is a binary variable that takes the value 1 if the user returned and 0 if they did not. It can be used to measure short-term user retention and to evaluate the effectiveness of different retention strategies.\n",
    "\n",
    "5- retention_7: This column represents whether a user returned to the game after 7 days of playing it for the first time. It is also a binary variable that takes the value 1 if the user returned and 0 if they did not. It can be used to measure longer-term user retention and to see how many users continue to engage with the game over time."
   ]
  },
  {
   "cell_type": "code",
   "execution_count": 7,
   "id": "2a6835b3",
   "metadata": {},
   "outputs": [
    {
     "data": {
      "text/plain": [
       "userid            False\n",
       "version           False\n",
       "sum_gamerounds    False\n",
       "retention_1       False\n",
       "retention_7       False\n",
       "dtype: bool"
      ]
     },
     "execution_count": 7,
     "metadata": {},
     "output_type": "execute_result"
    }
   ],
   "source": [
    "# Check null values\n",
    "data.isnull().any()"
   ]
  },
  {
   "cell_type": "code",
   "execution_count": 8,
   "id": "902f6511",
   "metadata": {},
   "outputs": [
    {
     "name": "stdout",
     "output_type": "stream",
     "text": [
      "<class 'pandas.core.frame.DataFrame'>\n",
      "RangeIndex: 90189 entries, 0 to 90188\n",
      "Data columns (total 5 columns):\n",
      " #   Column          Non-Null Count  Dtype \n",
      "---  ------          --------------  ----- \n",
      " 0   userid          90189 non-null  int64 \n",
      " 1   version         90189 non-null  object\n",
      " 2   sum_gamerounds  90189 non-null  int64 \n",
      " 3   retention_1     90189 non-null  bool  \n",
      " 4   retention_7     90189 non-null  bool  \n",
      "dtypes: bool(2), int64(2), object(1)\n",
      "memory usage: 2.2+ MB\n"
     ]
    }
   ],
   "source": [
    "# display information about the dataset\n",
    "data.info()"
   ]
  },
  {
   "cell_type": "code",
   "execution_count": 9,
   "id": "2be8194e",
   "metadata": {},
   "outputs": [
    {
     "data": {
      "text/html": [
       "<div>\n",
       "<style scoped>\n",
       "    .dataframe tbody tr th:only-of-type {\n",
       "        vertical-align: middle;\n",
       "    }\n",
       "\n",
       "    .dataframe tbody tr th {\n",
       "        vertical-align: top;\n",
       "    }\n",
       "\n",
       "    .dataframe thead th {\n",
       "        text-align: right;\n",
       "    }\n",
       "</style>\n",
       "<table border=\"1\" class=\"dataframe\">\n",
       "  <thead>\n",
       "    <tr style=\"text-align: right;\">\n",
       "      <th></th>\n",
       "      <th>userid</th>\n",
       "      <th>version</th>\n",
       "      <th>sum_gamerounds</th>\n",
       "      <th>retention_1</th>\n",
       "      <th>retention_7</th>\n",
       "    </tr>\n",
       "  </thead>\n",
       "  <tbody>\n",
       "    <tr>\n",
       "      <th>count</th>\n",
       "      <td>9.018900e+04</td>\n",
       "      <td>90189</td>\n",
       "      <td>90189.000000</td>\n",
       "      <td>90189</td>\n",
       "      <td>90189</td>\n",
       "    </tr>\n",
       "    <tr>\n",
       "      <th>unique</th>\n",
       "      <td>NaN</td>\n",
       "      <td>2</td>\n",
       "      <td>NaN</td>\n",
       "      <td>2</td>\n",
       "      <td>2</td>\n",
       "    </tr>\n",
       "    <tr>\n",
       "      <th>top</th>\n",
       "      <td>NaN</td>\n",
       "      <td>gate_40</td>\n",
       "      <td>NaN</td>\n",
       "      <td>False</td>\n",
       "      <td>False</td>\n",
       "    </tr>\n",
       "    <tr>\n",
       "      <th>freq</th>\n",
       "      <td>NaN</td>\n",
       "      <td>45489</td>\n",
       "      <td>NaN</td>\n",
       "      <td>50036</td>\n",
       "      <td>73408</td>\n",
       "    </tr>\n",
       "    <tr>\n",
       "      <th>mean</th>\n",
       "      <td>4.998412e+06</td>\n",
       "      <td>NaN</td>\n",
       "      <td>51.872457</td>\n",
       "      <td>NaN</td>\n",
       "      <td>NaN</td>\n",
       "    </tr>\n",
       "    <tr>\n",
       "      <th>std</th>\n",
       "      <td>2.883286e+06</td>\n",
       "      <td>NaN</td>\n",
       "      <td>195.050858</td>\n",
       "      <td>NaN</td>\n",
       "      <td>NaN</td>\n",
       "    </tr>\n",
       "    <tr>\n",
       "      <th>min</th>\n",
       "      <td>1.160000e+02</td>\n",
       "      <td>NaN</td>\n",
       "      <td>0.000000</td>\n",
       "      <td>NaN</td>\n",
       "      <td>NaN</td>\n",
       "    </tr>\n",
       "    <tr>\n",
       "      <th>25%</th>\n",
       "      <td>2.512230e+06</td>\n",
       "      <td>NaN</td>\n",
       "      <td>5.000000</td>\n",
       "      <td>NaN</td>\n",
       "      <td>NaN</td>\n",
       "    </tr>\n",
       "    <tr>\n",
       "      <th>50%</th>\n",
       "      <td>4.995815e+06</td>\n",
       "      <td>NaN</td>\n",
       "      <td>16.000000</td>\n",
       "      <td>NaN</td>\n",
       "      <td>NaN</td>\n",
       "    </tr>\n",
       "    <tr>\n",
       "      <th>75%</th>\n",
       "      <td>7.496452e+06</td>\n",
       "      <td>NaN</td>\n",
       "      <td>51.000000</td>\n",
       "      <td>NaN</td>\n",
       "      <td>NaN</td>\n",
       "    </tr>\n",
       "    <tr>\n",
       "      <th>max</th>\n",
       "      <td>9.999861e+06</td>\n",
       "      <td>NaN</td>\n",
       "      <td>49854.000000</td>\n",
       "      <td>NaN</td>\n",
       "      <td>NaN</td>\n",
       "    </tr>\n",
       "  </tbody>\n",
       "</table>\n",
       "</div>"
      ],
      "text/plain": [
       "              userid  version  sum_gamerounds retention_1 retention_7\n",
       "count   9.018900e+04    90189    90189.000000       90189       90189\n",
       "unique           NaN        2             NaN           2           2\n",
       "top              NaN  gate_40             NaN       False       False\n",
       "freq             NaN    45489             NaN       50036       73408\n",
       "mean    4.998412e+06      NaN       51.872457         NaN         NaN\n",
       "std     2.883286e+06      NaN      195.050858         NaN         NaN\n",
       "min     1.160000e+02      NaN        0.000000         NaN         NaN\n",
       "25%     2.512230e+06      NaN        5.000000         NaN         NaN\n",
       "50%     4.995815e+06      NaN       16.000000         NaN         NaN\n",
       "75%     7.496452e+06      NaN       51.000000         NaN         NaN\n",
       "max     9.999861e+06      NaN    49854.000000         NaN         NaN"
      ]
     },
     "execution_count": 9,
     "metadata": {},
     "output_type": "execute_result"
    }
   ],
   "source": [
    "# Display summary statistics of the dataset\n",
    "data.describe(include='all')"
   ]
  },
  {
   "cell_type": "code",
   "execution_count": 10,
   "id": "12b28a21",
   "metadata": {},
   "outputs": [
    {
     "data": {
      "text/plain": [
       "gate_40    45489\n",
       "gate_30    44700\n",
       "Name: version, dtype: int64"
      ]
     },
     "execution_count": 10,
     "metadata": {},
     "output_type": "execute_result"
    }
   ],
   "source": [
    "# Count two groups of test\n",
    "\n",
    "seen_ornot_seen_ads = data[\"version\"].value_counts()\n",
    "seen_ornot_seen_ads"
   ]
  },
  {
   "cell_type": "code",
   "execution_count": 11,
   "id": "3ff0365f",
   "metadata": {},
   "outputs": [
    {
     "data": {
      "image/png": "[encoded data removed]",
      "text/plain": [
       "<Figure size 640x480 with 1 Axes>"
      ]
     },
     "metadata": {},
     "output_type": "display_data"
    }
   ],
   "source": [
    "# Create a histogram of the 'version' column\n",
    "\n",
    "plt.hist(data['version'])\n",
    "\n",
    "plt.xlabel('Test group')\n",
    "plt.title('Histogram of Test Group')\n",
    "plt.show()"
   ]
  },
  {
   "cell_type": "code",
   "execution_count": 12,
   "id": "c408354d",
   "metadata": {},
   "outputs": [
    {
     "data": {
      "image/png": "[encoded data removed]",
      "text/plain": [
       "<Figure size 640x480 with 1 Axes>"
      ]
     },
     "metadata": {},
     "output_type": "display_data"
    }
   ],
   "source": [
    "# Plot a histogram of the 'sum_gamerounds' column\n",
    "\n",
    "plt.hist(data['sum_gamerounds'], bins=150)\n",
    "\n",
    "plt.title('Distribution of Total Game Rounds Played')\n",
    "plt.xlabel('Total Game Rounds Played')\n",
    "plt.ylabel('Number of Observations')\n",
    "plt.show()"
   ]
  },
  {
   "cell_type": "code",
   "execution_count": 13,
   "id": "82f57c4e",
   "metadata": {},
   "outputs": [
    {
     "data": {
      "image/png": "[encoded data removed]",
      "text/plain": [
       "<Figure size 640x480 with 1 Axes>"
      ]
     },
     "metadata": {},
     "output_type": "display_data"
    }
   ],
   "source": [
    "# Convert the 'test group' column to string type\n",
    "data['version'] = data['version'].astype(str)\n",
    "\n",
    "# Convert the 'converted' column to integer type\n",
    "data['sum_gamerounds'] = data['sum_gamerounds'].astype(int)\n",
    "\n",
    "# Separate the test groups into separate dataframes\n",
    "test_30 = data[data['version'] == 'gate_30']\n",
    "test_40 = data[data['version'] == 'gate_40']\n",
    "\n",
    "# Create a histogram of the 'converted' column for each group\n",
    "plt.hist(test_30['sum_gamerounds'], alpha=0.5, label='Gate_30')\n",
    "plt.hist(test_40['sum_gamerounds'], alpha=0.5, label='Gate_40')\n",
    "\n",
    "\n",
    "plt.xlabel('sum_gamerounds')\n",
    "plt.title('Histogram of sum_gamerounds by two Test Groups')\n",
    "plt.legend(loc='upper right')\n",
    "plt.show()"
   ]
  },
  {
   "cell_type": "code",
   "execution_count": 14,
   "id": "48f09775",
   "metadata": {},
   "outputs": [
    {
     "data": {
      "image/png": "[encoded data removed]",
      "text/plain": [
       "<Figure size 640x480 with 1 Axes>"
      ]
     },
     "metadata": {},
     "output_type": "display_data"
    }
   ],
   "source": [
    "# Create a box plot of 'sum_gamerounds' by 'version'\n",
    "\n",
    "data.boxplot(column='sum_gamerounds', by='version')\n",
    "\n",
    "plt.title('Distribution of Total Game Rounds Played by Version')\n",
    "plt.suptitle('')\n",
    "plt.xlabel('Version')\n",
    "plt.ylabel('Total Game Rounds Played')\n",
    "plt.show()"
   ]
  },
  {
   "cell_type": "code",
   "execution_count": 15,
   "id": "e7e2e692",
   "metadata": {},
   "outputs": [
    {
     "data": {
      "image/png": "[encoded data removed]",
      "text/plain": [
       "<Figure size 640x480 with 1 Axes>"
      ]
     },
     "metadata": {},
     "output_type": "display_data"
    }
   ],
   "source": [
    "# Create a scatter plot of 'sum_gamerounds' by 'version'\n",
    "\n",
    "plt.scatter(data['version'], data['sum_gamerounds'])\n",
    "\n",
    "plt.title('Total Game Rounds Played by Version')\n",
    "plt.xlabel('Version')\n",
    "plt.ylabel('Total Game Rounds Played')\n",
    "plt.show()"
   ]
  },
  {
   "cell_type": "markdown",
   "id": "3535c05b",
   "metadata": {},
   "source": [
    "### Calculate mean:"
   ]
  },
  {
   "cell_type": "code",
   "execution_count": 16,
   "id": "ccd0ec21",
   "metadata": {},
   "outputs": [
    {
     "name": "stdout",
     "output_type": "stream",
     "text": [
      " Mean of converted column: 51.8724567297564\n",
      "++++++++++++++++++++++++++++++++++++++++++++++++++\n",
      " Mean of ad group in converted column: 52.45626398210291\n",
      "++++++++++++++++++++++++++++++++++++++++++++++++++\n",
      " Mean of psa group in converted column: 51.29877552814966\n",
      "++++++++++++++++++++++++++++++++++++++++++++++++++\n",
      " Difference of means: 1.157488453953249\n"
     ]
    }
   ],
   "source": [
    "mean_sum_gamerounds = data.sum_gamerounds.mean()\n",
    "mean_test_30 = test_30.sum_gamerounds.mean()\n",
    "mean_test_40 = test_40.sum_gamerounds.mean()\n",
    "diff_mean_test = mean_test_30 - mean_test_40\n",
    "\n",
    "print(f' Mean of converted column: {mean_sum_gamerounds}')\n",
    "print('+'*50)\n",
    "print(f' Mean of ad group in converted column: {mean_test_30}')\n",
    "print('+'*50)\n",
    "print(f' Mean of psa group in converted column: {mean_test_40}')\n",
    "print('+'*50)\n",
    "print(f' Difference of means: {diff_mean_test}')"
   ]
  },
  {
   "cell_type": "markdown",
   "id": "52e65c0e",
   "metadata": {},
   "source": [
    "### Binomial test:"
   ]
  },
  {
   "cell_type": "code",
   "execution_count": 17,
   "id": "ff433d50",
   "metadata": {},
   "outputs": [],
   "source": [
    "max_rounds=data.sum_gamerounds.max()\n",
    "normalized_mean = data.sum_gamerounds.mean() / max_rounds\n",
    "\n",
    "gate30_sumgamerounds = np.random.binomial(len(test_30), \n",
    "                                          normalized_mean, \n",
    "                                          10000) / len(test_30)\n",
    "gate40_sumgamerounds = np.random.binomial(len(test_40), \n",
    "                                          normalized_mean, \n",
    "                                          10000) / len(test_40)"
   ]
  },
  {
   "cell_type": "code",
   "execution_count": 18,
   "id": "2ecd04c7",
   "metadata": {},
   "outputs": [
    {
     "name": "stdout",
     "output_type": "stream",
     "text": [
      "Difference of pvalues: [-3.49927507e-04  2.96996353e-06 -1.72120673e-04 ...  4.02162275e-04\n",
      " -1.30482168e-04 -6.41441304e-05]\n",
      "-----------------------------------\n",
      " Mean: 1.5031202321794058e-06\n"
     ]
    }
   ],
   "source": [
    "p_diffs = gate40_sumgamerounds - gate30_sumgamerounds\n",
    "p_diffs_mean = p_diffs.mean()\n",
    "print(f'Difference of pvalues: {p_diffs}')\n",
    "print('-'*35)\n",
    "print(f' Mean: {p_diffs_mean}')"
   ]
  },
  {
   "cell_type": "code",
   "execution_count": 19,
   "id": "79246c7d",
   "metadata": {},
   "outputs": [
    {
     "data": {
      "text/plain": [
       "-2.321756436701667e-05"
      ]
     },
     "execution_count": 19,
     "metadata": {},
     "output_type": "execute_result"
    }
   ],
   "source": [
    "normalized_mean_test = (test_40.sum_gamerounds.mean() - test_30.sum_gamerounds.mean()) / max_rounds\n",
    "normalized_mean_test"
   ]
  },
  {
   "cell_type": "code",
   "execution_count": 20,
   "id": "74b6292e",
   "metadata": {},
   "outputs": [
    {
     "name": "stdout",
     "output_type": "stream",
     "text": [
      "55.85\n",
      "--------------------\n",
      "44.15\n"
     ]
    }
   ],
   "source": [
    "print((p_diffs > normalized_mean_test).mean() * 100)\n",
    "print('-'*20)\n",
    "print((p_diffs < normalized_mean_test).mean() *100)"
   ]
  },
  {
   "cell_type": "markdown",
   "id": "00bf5bd6",
   "metadata": {},
   "source": [
    "### Mann-Whitney U test:"
   ]
  },
  {
   "cell_type": "markdown",
   "id": "d89f1bd5",
   "metadata": {},
   "source": [
    "The choice of statistical test depends on the research question and the specific characteristics of the data. A Mann-Whitney U test (also known as a Wilcoxon rank-sum test) can be used to compare the 'sum_gamerounds' between two independent groups, such as two different versions of the game.\n",
    "\n",
    "The Mann-Whitney U test is a non-parametric alternative to the two-sample t-test, which does not assume a normal distribution of the data. It works by comparing the ranks of the observations in the two groups, rather than their actual values. The null hypothesis for the Mann-Whitney U test is that there is no difference in the 'sum_gamerounds' between the two groups, and the alternative hypothesis is that there is a significant difference.\n",
    "\n",
    "To perform a Mann-Whitney U test in Python, you can use the scipy.stats.mannwhitneyu() function. Here's an example of how to perform a Mann-Whitney U test on the 'sum_gamerounds' between two versions of the game:"
   ]
  },
  {
   "cell_type": "code",
   "execution_count": 21,
   "id": "0c5af191",
   "metadata": {},
   "outputs": [
    {
     "name": "stdout",
     "output_type": "stream",
     "text": [
      "Mann-Whitney U test statistic: 1024331250.5\n",
      "P-value: 0.05020880772044255\n"
     ]
    }
   ],
   "source": [
    "# Split the data into two groups based on the 'version' column\n",
    "group1 = data[data['version'] == 'gate_30']['sum_gamerounds']\n",
    "group2 = data[data['version'] == 'gate_40']['sum_gamerounds']\n",
    "\n",
    "# Perform a Mann-Whitney U test on the two groups\n",
    "stat, p_value = sp.stats.mannwhitneyu(group1, group2)\n",
    "\n",
    "print('Mann-Whitney U test statistic:', stat)\n",
    "print('P-value:', p_value)"
   ]
  }
 ],
 "metadata": {
  "kernelspec": {
   "display_name": "Python 3 (ipykernel)",
   "language": "python",
   "name": "python3"
  },
  "language_info": {
   "codemirror_mode": {
    "name": "ipython",
    "version": 3
   },
   "file_extension": ".py",
   "mimetype": "text/x-python",
   "name": "python",
   "nbconvert_exporter": "python",
   "pygments_lexer": "ipython3",
   "version": "3.9.16"
  }
 },
 "nbformat": 4,
 "nbformat_minor": 5
}
