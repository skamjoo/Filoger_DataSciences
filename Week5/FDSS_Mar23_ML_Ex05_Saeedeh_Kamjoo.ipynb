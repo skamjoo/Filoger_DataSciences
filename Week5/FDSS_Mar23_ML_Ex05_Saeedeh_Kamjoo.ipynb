{
 "cells": [
  {
   "cell_type": "markdown",
   "id": "3391526e",
   "metadata": {},
   "source": [
    "# <center> Exercise 05"
   ]
  },
  {
   "cell_type": "markdown",
   "id": "fe39704a",
   "metadata": {},
   "source": [
    "### Import required libraries"
   ]
  },
  {
   "cell_type": "code",
   "execution_count": 1,
   "id": "3aef4757",
   "metadata": {},
   "outputs": [],
   "source": [
    "import numpy as np\n",
    "import pandas as pd\n",
    "import scipy as sp\n",
    "import matplotlib.pyplot as plt\n",
    "import seaborn as sns"
   ]
  },
  {
   "cell_type": "markdown",
   "id": "a6e54cc1",
   "metadata": {},
   "source": [
    "### Read data"
   ]
  },
  {
   "cell_type": "code",
   "execution_count": 2,
   "id": "623557d7",
   "metadata": {},
   "outputs": [],
   "source": [
    "data = pd.read_csv('marketing_AB.csv')"
   ]
  },
  {
   "cell_type": "markdown",
   "id": "997bee4e",
   "metadata": {},
   "source": [
    "### Overview of the data"
   ]
  },
  {
   "cell_type": "code",
   "execution_count": 3,
   "id": "42bab023",
   "metadata": {},
   "outputs": [
    {
     "data": {
      "text/html": [
       "<div>\n",
       "<style scoped>\n",
       "    .dataframe tbody tr th:only-of-type {\n",
       "        vertical-align: middle;\n",
       "    }\n",
       "\n",
       "    .dataframe tbody tr th {\n",
       "        vertical-align: top;\n",
       "    }\n",
       "\n",
       "    .dataframe thead th {\n",
       "        text-align: right;\n",
       "    }\n",
       "</style>\n",
       "<table border=\"1\" class=\"dataframe\">\n",
       "  <thead>\n",
       "    <tr style=\"text-align: right;\">\n",
       "      <th></th>\n",
       "      <th>Unnamed: 0</th>\n",
       "      <th>user id</th>\n",
       "      <th>test group</th>\n",
       "      <th>converted</th>\n",
       "      <th>total ads</th>\n",
       "      <th>most ads day</th>\n",
       "      <th>most ads hour</th>\n",
       "    </tr>\n",
       "  </thead>\n",
       "  <tbody>\n",
       "    <tr>\n",
       "      <th>0</th>\n",
       "      <td>0</td>\n",
       "      <td>1069124</td>\n",
       "      <td>ad</td>\n",
       "      <td>False</td>\n",
       "      <td>130</td>\n",
       "      <td>Monday</td>\n",
       "      <td>20</td>\n",
       "    </tr>\n",
       "    <tr>\n",
       "      <th>1</th>\n",
       "      <td>1</td>\n",
       "      <td>1119715</td>\n",
       "      <td>ad</td>\n",
       "      <td>False</td>\n",
       "      <td>93</td>\n",
       "      <td>Tuesday</td>\n",
       "      <td>22</td>\n",
       "    </tr>\n",
       "    <tr>\n",
       "      <th>2</th>\n",
       "      <td>2</td>\n",
       "      <td>1144181</td>\n",
       "      <td>ad</td>\n",
       "      <td>False</td>\n",
       "      <td>21</td>\n",
       "      <td>Tuesday</td>\n",
       "      <td>18</td>\n",
       "    </tr>\n",
       "    <tr>\n",
       "      <th>3</th>\n",
       "      <td>3</td>\n",
       "      <td>1435133</td>\n",
       "      <td>ad</td>\n",
       "      <td>False</td>\n",
       "      <td>355</td>\n",
       "      <td>Tuesday</td>\n",
       "      <td>10</td>\n",
       "    </tr>\n",
       "    <tr>\n",
       "      <th>4</th>\n",
       "      <td>4</td>\n",
       "      <td>1015700</td>\n",
       "      <td>ad</td>\n",
       "      <td>False</td>\n",
       "      <td>276</td>\n",
       "      <td>Friday</td>\n",
       "      <td>14</td>\n",
       "    </tr>\n",
       "  </tbody>\n",
       "</table>\n",
       "</div>"
      ],
      "text/plain": [
       "   Unnamed: 0  user id test group  converted  total ads most ads day  \\\n",
       "0           0  1069124         ad      False        130       Monday   \n",
       "1           1  1119715         ad      False         93      Tuesday   \n",
       "2           2  1144181         ad      False         21      Tuesday   \n",
       "3           3  1435133         ad      False        355      Tuesday   \n",
       "4           4  1015700         ad      False        276       Friday   \n",
       "\n",
       "   most ads hour  \n",
       "0             20  \n",
       "1             22  \n",
       "2             18  \n",
       "3             10  \n",
       "4             14  "
      ]
     },
     "execution_count": 3,
     "metadata": {},
     "output_type": "execute_result"
    }
   ],
   "source": [
    "data.head()"
   ]
  },
  {
   "cell_type": "code",
   "execution_count": 4,
   "id": "00befd2e",
   "metadata": {},
   "outputs": [
    {
     "name": "stdout",
     "output_type": "stream",
     "text": [
      "The Shape of Dataset:(588101, 7)\n"
     ]
    }
   ],
   "source": [
    "print(f\"The Shape of Dataset:{ data.shape}\")"
   ]
  },
  {
   "cell_type": "code",
   "execution_count": 5,
   "id": "9f40f8a1",
   "metadata": {},
   "outputs": [
    {
     "data": {
      "text/plain": [
       "Index(['Unnamed: 0', 'user id', 'test group', 'converted', 'total ads',\n",
       "       'most ads day', 'most ads hour'],\n",
       "      dtype='object')"
      ]
     },
     "execution_count": 5,
     "metadata": {},
     "output_type": "execute_result"
    }
   ],
   "source": [
    "column_names = data.columns\n",
    "column_names"
   ]
  },
  {
   "cell_type": "code",
   "execution_count": 6,
   "id": "35f7bacb",
   "metadata": {},
   "outputs": [
    {
     "data": {
      "text/plain": [
       "Unnamed: 0       588101\n",
       "user id          588101\n",
       "test group            2\n",
       "converted             2\n",
       "total ads           807\n",
       "most ads day          7\n",
       "most ads hour        24\n",
       "dtype: int64"
      ]
     },
     "execution_count": 6,
     "metadata": {},
     "output_type": "execute_result"
    }
   ],
   "source": [
    "data.nunique()"
   ]
  },
  {
   "cell_type": "markdown",
   "id": "f0d9f5fe",
   "metadata": {},
   "source": [
    "### Check the features"
   ]
  },
  {
   "cell_type": "markdown",
   "id": "adf2fb45",
   "metadata": {},
   "source": [
    "#### Explanation for each feature in the marketing_AB dataset:\n",
    "\n",
    "1- \"Unnamed: 0\": This column appears to be an index column that holds a unique identifier for each row in the CSV file. It is often automatically generated by pandas or other Python libraries when reading in data from a CSV file.\n",
    "\n",
    "2- \"user id\": This column holds a unique identifier for each user who was included in the marketing campaign. This could be an anonymous ID generated by the marketing team, or it could be a user ID associated with the marketing platform or website being used.\n",
    "\n",
    "3- \"test group\": This column indicates which group the user was assigned to in the A/B test. In an A/B test, users are randomly assigned to one of two groups (usually called \"A\" and \"B\") and each group is shown a different version of the marketing campaign. The goal is to test which version of the campaign is more effective at achieving the desired outcome (in this case, \"converted\"). \n",
    "\n",
    "ad: They have seen the ads --- psa: They don't have seen any ads.\n",
    "\n",
    "4- \"converted\": This column indicates whether or not the user \"converted\" as a result of the marketing campaign. Conversion can mean different things depending on the goals of the campaign, but it typically refers to a user taking a specific action that the marketer wants them to take (e.g. making a purchase, signing up for a newsletter, etc.).\n",
    "\n",
    "5- \"total ads\": This column indicates how many ads the user was shown during the course of the marketing campaign. This could be a measure of how much exposure the user had to the campaign, or it could be a factor in determining which version of the campaign the user was shown (e.g. users in Group A might be shown more ads than users in Group B).\n",
    "\n",
    "6- \"most ads day\": This column indicates the day on which the user was shown the most ads during the campaign. This could be useful for analyzing whether there are certain days of the week or times of day when the campaign is more effective.\n",
    "\n",
    "7- \"most ads hour\": This column indicates the hour of the day when the user was shown the most ads during the campaign. This could also be useful for analyzing when the campaign is most effective."
   ]
  },
  {
   "cell_type": "markdown",
   "id": "f1ef5999",
   "metadata": {},
   "source": [
    "### Replace the 'Unnamed: 0' column with the index"
   ]
  },
  {
   "cell_type": "code",
   "execution_count": 7,
   "id": "e830d4de",
   "metadata": {},
   "outputs": [],
   "source": [
    "data = data.set_index('Unnamed: 0')"
   ]
  },
  {
   "cell_type": "code",
   "execution_count": 8,
   "id": "3908913b",
   "metadata": {},
   "outputs": [
    {
     "data": {
      "text/html": [
       "<div>\n",
       "<style scoped>\n",
       "    .dataframe tbody tr th:only-of-type {\n",
       "        vertical-align: middle;\n",
       "    }\n",
       "\n",
       "    .dataframe tbody tr th {\n",
       "        vertical-align: top;\n",
       "    }\n",
       "\n",
       "    .dataframe thead th {\n",
       "        text-align: right;\n",
       "    }\n",
       "</style>\n",
       "<table border=\"1\" class=\"dataframe\">\n",
       "  <thead>\n",
       "    <tr style=\"text-align: right;\">\n",
       "      <th></th>\n",
       "      <th>user id</th>\n",
       "      <th>test group</th>\n",
       "      <th>converted</th>\n",
       "      <th>total ads</th>\n",
       "      <th>most ads day</th>\n",
       "      <th>most ads hour</th>\n",
       "    </tr>\n",
       "    <tr>\n",
       "      <th>Unnamed: 0</th>\n",
       "      <th></th>\n",
       "      <th></th>\n",
       "      <th></th>\n",
       "      <th></th>\n",
       "      <th></th>\n",
       "      <th></th>\n",
       "    </tr>\n",
       "  </thead>\n",
       "  <tbody>\n",
       "    <tr>\n",
       "      <th>0</th>\n",
       "      <td>1069124</td>\n",
       "      <td>ad</td>\n",
       "      <td>False</td>\n",
       "      <td>130</td>\n",
       "      <td>Monday</td>\n",
       "      <td>20</td>\n",
       "    </tr>\n",
       "    <tr>\n",
       "      <th>1</th>\n",
       "      <td>1119715</td>\n",
       "      <td>ad</td>\n",
       "      <td>False</td>\n",
       "      <td>93</td>\n",
       "      <td>Tuesday</td>\n",
       "      <td>22</td>\n",
       "    </tr>\n",
       "    <tr>\n",
       "      <th>2</th>\n",
       "      <td>1144181</td>\n",
       "      <td>ad</td>\n",
       "      <td>False</td>\n",
       "      <td>21</td>\n",
       "      <td>Tuesday</td>\n",
       "      <td>18</td>\n",
       "    </tr>\n",
       "    <tr>\n",
       "      <th>3</th>\n",
       "      <td>1435133</td>\n",
       "      <td>ad</td>\n",
       "      <td>False</td>\n",
       "      <td>355</td>\n",
       "      <td>Tuesday</td>\n",
       "      <td>10</td>\n",
       "    </tr>\n",
       "    <tr>\n",
       "      <th>4</th>\n",
       "      <td>1015700</td>\n",
       "      <td>ad</td>\n",
       "      <td>False</td>\n",
       "      <td>276</td>\n",
       "      <td>Friday</td>\n",
       "      <td>14</td>\n",
       "    </tr>\n",
       "  </tbody>\n",
       "</table>\n",
       "</div>"
      ],
      "text/plain": [
       "            user id test group  converted  total ads most ads day  \\\n",
       "Unnamed: 0                                                          \n",
       "0           1069124         ad      False        130       Monday   \n",
       "1           1119715         ad      False         93      Tuesday   \n",
       "2           1144181         ad      False         21      Tuesday   \n",
       "3           1435133         ad      False        355      Tuesday   \n",
       "4           1015700         ad      False        276       Friday   \n",
       "\n",
       "            most ads hour  \n",
       "Unnamed: 0                 \n",
       "0                      20  \n",
       "1                      22  \n",
       "2                      18  \n",
       "3                      10  \n",
       "4                      14  "
      ]
     },
     "execution_count": 8,
     "metadata": {},
     "output_type": "execute_result"
    }
   ],
   "source": [
    "data.head()"
   ]
  },
  {
   "cell_type": "code",
   "execution_count": 9,
   "id": "2a6835b3",
   "metadata": {},
   "outputs": [
    {
     "data": {
      "text/plain": [
       "user id          False\n",
       "test group       False\n",
       "converted        False\n",
       "total ads        False\n",
       "most ads day     False\n",
       "most ads hour    False\n",
       "dtype: bool"
      ]
     },
     "execution_count": 9,
     "metadata": {},
     "output_type": "execute_result"
    }
   ],
   "source": [
    "# Check null values\n",
    "data.isnull().any()"
   ]
  },
  {
   "cell_type": "code",
   "execution_count": 10,
   "id": "902f6511",
   "metadata": {},
   "outputs": [
    {
     "name": "stdout",
     "output_type": "stream",
     "text": [
      "<class 'pandas.core.frame.DataFrame'>\n",
      "Int64Index: 588101 entries, 0 to 588100\n",
      "Data columns (total 6 columns):\n",
      " #   Column         Non-Null Count   Dtype \n",
      "---  ------         --------------   ----- \n",
      " 0   user id        588101 non-null  int64 \n",
      " 1   test group     588101 non-null  object\n",
      " 2   converted      588101 non-null  bool  \n",
      " 3   total ads      588101 non-null  int64 \n",
      " 4   most ads day   588101 non-null  object\n",
      " 5   most ads hour  588101 non-null  int64 \n",
      "dtypes: bool(1), int64(3), object(2)\n",
      "memory usage: 27.5+ MB\n"
     ]
    }
   ],
   "source": [
    "# display information about the dataset\n",
    "data.info()"
   ]
  },
  {
   "cell_type": "code",
   "execution_count": 11,
   "id": "2be8194e",
   "metadata": {},
   "outputs": [
    {
     "data": {
      "text/html": [
       "<div>\n",
       "<style scoped>\n",
       "    .dataframe tbody tr th:only-of-type {\n",
       "        vertical-align: middle;\n",
       "    }\n",
       "\n",
       "    .dataframe tbody tr th {\n",
       "        vertical-align: top;\n",
       "    }\n",
       "\n",
       "    .dataframe thead th {\n",
       "        text-align: right;\n",
       "    }\n",
       "</style>\n",
       "<table border=\"1\" class=\"dataframe\">\n",
       "  <thead>\n",
       "    <tr style=\"text-align: right;\">\n",
       "      <th></th>\n",
       "      <th>user id</th>\n",
       "      <th>test group</th>\n",
       "      <th>converted</th>\n",
       "      <th>total ads</th>\n",
       "      <th>most ads day</th>\n",
       "      <th>most ads hour</th>\n",
       "    </tr>\n",
       "  </thead>\n",
       "  <tbody>\n",
       "    <tr>\n",
       "      <th>count</th>\n",
       "      <td>5.881010e+05</td>\n",
       "      <td>588101</td>\n",
       "      <td>588101</td>\n",
       "      <td>588101.000000</td>\n",
       "      <td>588101</td>\n",
       "      <td>588101.000000</td>\n",
       "    </tr>\n",
       "    <tr>\n",
       "      <th>unique</th>\n",
       "      <td>NaN</td>\n",
       "      <td>2</td>\n",
       "      <td>2</td>\n",
       "      <td>NaN</td>\n",
       "      <td>7</td>\n",
       "      <td>NaN</td>\n",
       "    </tr>\n",
       "    <tr>\n",
       "      <th>top</th>\n",
       "      <td>NaN</td>\n",
       "      <td>ad</td>\n",
       "      <td>False</td>\n",
       "      <td>NaN</td>\n",
       "      <td>Friday</td>\n",
       "      <td>NaN</td>\n",
       "    </tr>\n",
       "    <tr>\n",
       "      <th>freq</th>\n",
       "      <td>NaN</td>\n",
       "      <td>564577</td>\n",
       "      <td>573258</td>\n",
       "      <td>NaN</td>\n",
       "      <td>92608</td>\n",
       "      <td>NaN</td>\n",
       "    </tr>\n",
       "    <tr>\n",
       "      <th>mean</th>\n",
       "      <td>1.310692e+06</td>\n",
       "      <td>NaN</td>\n",
       "      <td>NaN</td>\n",
       "      <td>24.820876</td>\n",
       "      <td>NaN</td>\n",
       "      <td>14.469061</td>\n",
       "    </tr>\n",
       "    <tr>\n",
       "      <th>std</th>\n",
       "      <td>2.022260e+05</td>\n",
       "      <td>NaN</td>\n",
       "      <td>NaN</td>\n",
       "      <td>43.715181</td>\n",
       "      <td>NaN</td>\n",
       "      <td>4.834634</td>\n",
       "    </tr>\n",
       "    <tr>\n",
       "      <th>min</th>\n",
       "      <td>9.000000e+05</td>\n",
       "      <td>NaN</td>\n",
       "      <td>NaN</td>\n",
       "      <td>1.000000</td>\n",
       "      <td>NaN</td>\n",
       "      <td>0.000000</td>\n",
       "    </tr>\n",
       "    <tr>\n",
       "      <th>25%</th>\n",
       "      <td>1.143190e+06</td>\n",
       "      <td>NaN</td>\n",
       "      <td>NaN</td>\n",
       "      <td>4.000000</td>\n",
       "      <td>NaN</td>\n",
       "      <td>11.000000</td>\n",
       "    </tr>\n",
       "    <tr>\n",
       "      <th>50%</th>\n",
       "      <td>1.313725e+06</td>\n",
       "      <td>NaN</td>\n",
       "      <td>NaN</td>\n",
       "      <td>13.000000</td>\n",
       "      <td>NaN</td>\n",
       "      <td>14.000000</td>\n",
       "    </tr>\n",
       "    <tr>\n",
       "      <th>75%</th>\n",
       "      <td>1.484088e+06</td>\n",
       "      <td>NaN</td>\n",
       "      <td>NaN</td>\n",
       "      <td>27.000000</td>\n",
       "      <td>NaN</td>\n",
       "      <td>18.000000</td>\n",
       "    </tr>\n",
       "    <tr>\n",
       "      <th>max</th>\n",
       "      <td>1.654483e+06</td>\n",
       "      <td>NaN</td>\n",
       "      <td>NaN</td>\n",
       "      <td>2065.000000</td>\n",
       "      <td>NaN</td>\n",
       "      <td>23.000000</td>\n",
       "    </tr>\n",
       "  </tbody>\n",
       "</table>\n",
       "</div>"
      ],
      "text/plain": [
       "             user id test group converted      total ads most ads day  \\\n",
       "count   5.881010e+05     588101    588101  588101.000000       588101   \n",
       "unique           NaN          2         2            NaN            7   \n",
       "top              NaN         ad     False            NaN       Friday   \n",
       "freq             NaN     564577    573258            NaN        92608   \n",
       "mean    1.310692e+06        NaN       NaN      24.820876          NaN   \n",
       "std     2.022260e+05        NaN       NaN      43.715181          NaN   \n",
       "min     9.000000e+05        NaN       NaN       1.000000          NaN   \n",
       "25%     1.143190e+06        NaN       NaN       4.000000          NaN   \n",
       "50%     1.313725e+06        NaN       NaN      13.000000          NaN   \n",
       "75%     1.484088e+06        NaN       NaN      27.000000          NaN   \n",
       "max     1.654483e+06        NaN       NaN    2065.000000          NaN   \n",
       "\n",
       "        most ads hour  \n",
       "count   588101.000000  \n",
       "unique            NaN  \n",
       "top               NaN  \n",
       "freq              NaN  \n",
       "mean        14.469061  \n",
       "std          4.834634  \n",
       "min          0.000000  \n",
       "25%         11.000000  \n",
       "50%         14.000000  \n",
       "75%         18.000000  \n",
       "max         23.000000  "
      ]
     },
     "execution_count": 11,
     "metadata": {},
     "output_type": "execute_result"
    }
   ],
   "source": [
    "# Display summary statistics of the dataset\n",
    "data.describe(include='all')"
   ]
  },
  {
   "cell_type": "code",
   "execution_count": 12,
   "id": "12b28a21",
   "metadata": {},
   "outputs": [
    {
     "data": {
      "text/plain": [
       "ad     564577\n",
       "psa     23524\n",
       "Name: test group, dtype: int64"
      ]
     },
     "execution_count": 12,
     "metadata": {},
     "output_type": "execute_result"
    }
   ],
   "source": [
    "# Count two groups of test\n",
    "\n",
    "seen_ornot_seen_ads = data[\"test group\"].value_counts()\n",
    "seen_ornot_seen_ads"
   ]
  },
  {
   "cell_type": "code",
   "execution_count": 13,
   "id": "3ff0365f",
   "metadata": {},
   "outputs": [
    {
     "data": {
      "image/png": "[encoded data removed]",
      "text/plain": [
       "<Figure size 640x480 with 1 Axes>"
      ]
     },
     "metadata": {},
     "output_type": "display_data"
    }
   ],
   "source": [
    "# Create a histogram of the 'test group' column\n",
    "\n",
    "plt.hist(data['test group'])\n",
    "plt.xlabel('Test Group')\n",
    "plt.title('Histogram of Test Group')\n",
    "plt.show()"
   ]
  },
  {
   "cell_type": "code",
   "execution_count": 14,
   "id": "e3f96d78",
   "metadata": {},
   "outputs": [
    {
     "data": {
      "text/plain": [
       "False    573258\n",
       "True      14843\n",
       "Name: converted, dtype: int64"
      ]
     },
     "execution_count": 14,
     "metadata": {},
     "output_type": "execute_result"
    }
   ],
   "source": [
    "# Count purchases\n",
    "\n",
    "bought_ornot_bought = data[\"converted\"].value_counts()\n",
    "bought_ornot_bought"
   ]
  },
  {
   "cell_type": "code",
   "execution_count": 15,
   "id": "82f57c4e",
   "metadata": {},
   "outputs": [
    {
     "data": {
      "image/png": "[encoded data removed]",
      "text/plain": [
       "<Figure size 640x480 with 1 Axes>"
      ]
     },
     "metadata": {},
     "output_type": "display_data"
    }
   ],
   "source": [
    "# Convert the 'test group' column to string type\n",
    "data['test group'] = data['test group'].astype(str)\n",
    "\n",
    "# Convert the 'converted' column to integer type\n",
    "data['converted'] = data['converted'].astype(int)\n",
    "\n",
    "# Separate the test groups into separate dataframes\n",
    "test_ad = data[data['test group'] == 'ad']\n",
    "test_psa = data[data['test group'] == 'psa']\n",
    "\n",
    "# Create a histogram of the 'converted' column for each group\n",
    "plt.hist(test_ad['converted'], alpha=0.5, label='Test ad')\n",
    "plt.hist(test_psa['converted'], alpha=0.5, label='Test psa')\n",
    "\n",
    "\n",
    "plt.xlabel('Converted')\n",
    "plt.title('Histogram of Converted by Test Group')\n",
    "plt.legend(loc='upper right')\n",
    "plt.show()"
   ]
  },
  {
   "cell_type": "code",
   "execution_count": 16,
   "id": "9939e7cc",
   "metadata": {},
   "outputs": [
    {
     "data": {
      "text/plain": [
       "Text(0.5, 1.0, 'Test group VS. Converted')"
      ]
     },
     "execution_count": 16,
     "metadata": {},
     "output_type": "execute_result"
    },
    {
     "data": {
      "image/png": "[encoded data removed]",
      "text/plain": [
       "<Figure size 1300x700 with 1 Axes>"
      ]
     },
     "metadata": {},
     "output_type": "display_data"
    }
   ],
   "source": [
    "fig = plt.figure(figsize=(13,7),)\n",
    "ax=sns.kdeplot(data.loc[(data['test group'] == 'ad'),\n",
    "                        'converted'] , color='b',\n",
    "               fill=True,label='Seen ad')\n",
    "ax=sns.kdeplot(data.loc[(data['test group'] == 'psa'),\n",
    "                        'converted'] , color='r',\n",
    "               fill=True, label='Not seen')\n",
    "ax.set(xlabel='Test group', ylabel='Frequency')\n",
    "plt.title('Test group VS. Converted')"
   ]
  },
  {
   "cell_type": "markdown",
   "id": "75c14167",
   "metadata": {},
   "source": [
    "### Calculate mean:"
   ]
  },
  {
   "cell_type": "code",
   "execution_count": 17,
   "id": "577f7b70",
   "metadata": {},
   "outputs": [
    {
     "name": "stdout",
     "output_type": "stream",
     "text": [
      " Mean of converted column: 0.02523886203220195\n",
      "++++++++++++++++++++++++++++++++++++++++++++++++++\n",
      " Mean of ad group in converted column: 0.025546559636683747\n",
      "++++++++++++++++++++++++++++++++++++++++++++++++++\n",
      " Mean of psa group in converted column: 0.01785410644448223\n",
      "++++++++++++++++++++++++++++++++++++++++++++++++++\n",
      " Difference of means: 0.007692453192201517\n"
     ]
    }
   ],
   "source": [
    "mean_converted = data.converted.mean()\n",
    "mean_test_ad = test_ad.converted.mean()\n",
    "mean_test_psa = test_psa.converted.mean()\n",
    "diff_mean_test = mean_test_ad - mean_test_psa\n",
    "\n",
    "print(f' Mean of converted column: {mean_converted}')\n",
    "print('+'*50)\n",
    "print(f' Mean of ad group in converted column: {mean_test_ad}')\n",
    "print('+'*50)\n",
    "print(f' Mean of psa group in converted column: {mean_test_psa}')\n",
    "print('+'*50)\n",
    "print(f' Difference of means: {diff_mean_test}')"
   ]
  },
  {
   "cell_type": "markdown",
   "id": "4428df72",
   "metadata": {},
   "source": [
    "### Binomial test:"
   ]
  },
  {
   "cell_type": "code",
   "execution_count": 18,
   "id": "f29a3009",
   "metadata": {},
   "outputs": [],
   "source": [
    "ad_converted_samples = np.random.binomial(len(test_ad), \n",
    "                                  mean_converted, \n",
    "                                  10000) / len(test_ad)\n",
    "\n",
    "psa_converted_samples = np.random.binomial(len(test_psa), \n",
    "                                   mean_converted, \n",
    "                                   10000) / len(test_psa)"
   ]
  },
  {
   "cell_type": "code",
   "execution_count": 19,
   "id": "f8f0e356",
   "metadata": {},
   "outputs": [
    {
     "name": "stdout",
     "output_type": "stream",
     "text": [
      "Difference of pvalues: [-0.00121689 -0.00115844 -0.00100611 ...  0.00013811  0.00066417\n",
      " -0.00077585]\n",
      " Mean: -1.6219885354119747e-06\n"
     ]
    }
   ],
   "source": [
    "p_diffs = ad_converted_samples - psa_converted_samples\n",
    "p_diffs_mean = p_diffs.mean()\n",
    "print(f'Difference of pvalues: {p_diffs}')\n",
    "print(f' Mean: {p_diffs_mean}')"
   ]
  },
  {
   "cell_type": "code",
   "execution_count": 20,
   "id": "7f0aca6a",
   "metadata": {},
   "outputs": [
    {
     "data": {
      "text/plain": [
       "0.0"
      ]
     },
     "execution_count": 20,
     "metadata": {},
     "output_type": "execute_result"
    }
   ],
   "source": [
    "(p_diffs > diff_mean_test).mean()*100"
   ]
  },
  {
   "cell_type": "code",
   "execution_count": 22,
   "id": "66658700",
   "metadata": {},
   "outputs": [
    {
     "data": {
      "text/plain": [
       "100.0"
      ]
     },
     "execution_count": 22,
     "metadata": {},
     "output_type": "execute_result"
    }
   ],
   "source": [
    "(p_diffs < diff_mean_test).mean()*100"
   ]
  },
  {
   "cell_type": "markdown",
   "id": "7f3e6e65",
   "metadata": {},
   "source": [
    "### Chi_2 Test:"
   ]
  },
  {
   "cell_type": "code",
   "execution_count": 23,
   "id": "efbf38fe",
   "metadata": {},
   "outputs": [
    {
     "name": "stdout",
     "output_type": "stream",
     "text": [
      "Statistic: 54.005823883685245\n",
      "P-value: 1.9989623063390075e-13\n"
     ]
    }
   ],
   "source": [
    "# Create a contingency table\n",
    "contingency_table = pd.crosstab(data['test group'], data['converted'])\n",
    "\n",
    "# Conduct a chi-squared test\n",
    "statistic, pvalue, dof, expected = sp.stats.chi2_contingency(\n",
    "                                                       contingency_table)\n",
    "\n",
    "print('Statistic:', statistic)\n",
    "print('P-value:', pvalue)"
   ]
  },
  {
   "cell_type": "code",
   "execution_count": 24,
   "id": "0e56bb9d",
   "metadata": {},
   "outputs": [
    {
     "data": {
      "text/html": [
       "<div>\n",
       "<style scoped>\n",
       "    .dataframe tbody tr th:only-of-type {\n",
       "        vertical-align: middle;\n",
       "    }\n",
       "\n",
       "    .dataframe tbody tr th {\n",
       "        vertical-align: top;\n",
       "    }\n",
       "\n",
       "    .dataframe thead th {\n",
       "        text-align: right;\n",
       "    }\n",
       "</style>\n",
       "<table border=\"1\" class=\"dataframe\">\n",
       "  <thead>\n",
       "    <tr style=\"text-align: right;\">\n",
       "      <th>converted</th>\n",
       "      <th>0</th>\n",
       "      <th>1</th>\n",
       "    </tr>\n",
       "    <tr>\n",
       "      <th>test group</th>\n",
       "      <th></th>\n",
       "      <th></th>\n",
       "    </tr>\n",
       "  </thead>\n",
       "  <tbody>\n",
       "    <tr>\n",
       "      <th>ad</th>\n",
       "      <td>550154</td>\n",
       "      <td>14423</td>\n",
       "    </tr>\n",
       "    <tr>\n",
       "      <th>psa</th>\n",
       "      <td>23104</td>\n",
       "      <td>420</td>\n",
       "    </tr>\n",
       "  </tbody>\n",
       "</table>\n",
       "</div>"
      ],
      "text/plain": [
       "converted        0      1\n",
       "test group               \n",
       "ad          550154  14423\n",
       "psa          23104    420"
      ]
     },
     "execution_count": 24,
     "metadata": {},
     "output_type": "execute_result"
    }
   ],
   "source": [
    "contingency_table"
   ]
  },
  {
   "cell_type": "code",
   "execution_count": 25,
   "id": "e7062128",
   "metadata": {},
   "outputs": [
    {
     "data": {
      "image/png": "[encoded data removed]",
      "text/plain": [
       "<Figure size 640x480 with 1 Axes>"
      ]
     },
     "metadata": {},
     "output_type": "display_data"
    }
   ],
   "source": [
    "# Plot the contingency table as a stacked bar plot\n",
    "\n",
    "contingency_table.plot(kind='bar', stacked=True)\n",
    "\n",
    "plt.title('Conversion Rates by Test Group')\n",
    "plt.xlabel('Test Group')\n",
    "plt.ylabel('Number of Observations')\n",
    "plt.show()"
   ]
  }
 ],
 "metadata": {
  "kernelspec": {
   "display_name": "Python 3 (ipykernel)",
   "language": "python",
   "name": "python3"
  },
  "language_info": {
   "codemirror_mode": {
    "name": "ipython",
    "version": 3
   },
   "file_extension": ".py",
   "mimetype": "text/x-python",
   "name": "python",
   "nbconvert_exporter": "python",
   "pygments_lexer": "ipython3",
   "version": "3.9.16"
  }
 },
 "nbformat": 4,
 "nbformat_minor": 5
}
